{
 "cells": [
  {
   "cell_type": "markdown",
   "metadata": {},
   "source": [
    "# Data Sourcing\n",
    "### Via PRAW (The Python Reddit API Wrapper)"
   ]
  },
  {
   "cell_type": "markdown",
   "metadata": {},
   "source": [
    "#### Scrape data and list"
   ]
  },
  {
   "cell_type": "code",
   "execution_count": 1,
   "metadata": {},
   "outputs": [],
   "source": [
    "import praw\n",
    "import pandas as pd"
   ]
  },
  {
   "cell_type": "code",
   "execution_count": 2,
   "metadata": {},
   "outputs": [],
   "source": [
    "# instantiate a reddit instance \n",
    "reddit = praw.Reddit()"
   ]
  },
  {
   "cell_type": "code",
   "execution_count": 3,
   "metadata": {},
   "outputs": [],
   "source": [
    "subreddit_sto = 'Stoicism'\n",
    "subreddit_buh = 'Buddhism'"
   ]
  },
  {
   "cell_type": "code",
   "execution_count": 4,
   "metadata": {},
   "outputs": [],
   "source": [
    "# params – a dictionary containing additional query string parameters to send with the request.\n",
    "# posts = reddit.subreddit(my_subreddit).new(params = {'after': t3_196akv6})\n",
    "# feed options: new, controversial, gilded, hot, rising, top\n",
    "\n",
    "# create listing generators\n",
    "sto_1_n = reddit.subreddit(subreddit_sto).new(limit=None)\n",
    "sto_1_t = reddit.subreddit(subreddit_sto).top(limit=None)\n",
    "sto_1_h = reddit.subreddit(subreddit_sto).hot(limit=None)\n",
    "sto_1_r = reddit.subreddit(subreddit_sto).rising(limit=None)\n",
    "sto_1_c = reddit.subreddit(subreddit_sto).controversial(limit=None)\n"
   ]
  },
  {
   "cell_type": "code",
   "execution_count": 5,
   "metadata": {},
   "outputs": [],
   "source": [
    "# create listing generators (can only iterate through them once)\n",
    "buh_1_n = reddit.subreddit(subreddit_buh).new(limit=None)\n",
    "buh_1_c = reddit.subreddit(subreddit_buh).controversial(limit=None)\n",
    "buh_1_h = reddit.subreddit(subreddit_buh).hot(limit=None)\n",
    "buh_1_r = reddit.subreddit(subreddit_buh).rising(limit=None)\n",
    "buh_1_t = reddit.subreddit(subreddit_buh).top(limit=None)"
   ]
  },
  {
   "cell_type": "code",
   "execution_count": 6,
   "metadata": {},
   "outputs": [],
   "source": [
    "# define function to add submissions to list\n",
    "def listgen_to_df(listgen):\n",
    "    posts_list = []\n",
    "    for post in listgen: \n",
    "        posts_list.append (\n",
    "            { \n",
    "                'title' : post.title,\n",
    "                'selftext' : post.selftext,\n",
    "                'subreddit' : post.subreddit,\n",
    "                'created_utc' : post.created_utc,\n",
    "                'name' : post.name, # unique identifier used by reddit behind the scenes\n",
    "                'upvote ratio' : post.upvote_ratio,\n",
    "                'num_upvotes': post.score\n",
    "            })\n",
    "    df = pd.DataFrame(posts_list)\n",
    "    return (df)\n"
   ]
  },
  {
   "cell_type": "markdown",
   "metadata": {},
   "source": [
    "### Stoicism "
   ]
  },
  {
   "cell_type": "code",
   "execution_count": 7,
   "metadata": {},
   "outputs": [
    {
     "data": {
      "text/plain": [
       "(993, 7)"
      ]
     },
     "execution_count": 7,
     "metadata": {},
     "output_type": "execute_result"
    }
   ],
   "source": [
    "sto_1_t_df = listgen_to_df(sto_1_t)\n",
    "sto_1_t_df.shape"
   ]
  },
  {
   "cell_type": "code",
   "execution_count": 8,
   "metadata": {},
   "outputs": [
    {
     "data": {
      "text/plain": [
       "(880, 7)"
      ]
     },
     "execution_count": 8,
     "metadata": {},
     "output_type": "execute_result"
    }
   ],
   "source": [
    "sto_1_n_df = listgen_to_df(sto_1_n)\n",
    "sto_1_n_df.shape"
   ]
  },
  {
   "cell_type": "code",
   "execution_count": 9,
   "metadata": {},
   "outputs": [
    {
     "data": {
      "text/plain": [
       "(988, 7)"
      ]
     },
     "execution_count": 9,
     "metadata": {},
     "output_type": "execute_result"
    }
   ],
   "source": [
    "sto_1_h_df = listgen_to_df(sto_1_h)\n",
    "sto_1_h_df.shape"
   ]
  },
  {
   "cell_type": "code",
   "execution_count": 10,
   "metadata": {},
   "outputs": [
    {
     "data": {
      "text/plain": [
       "(25, 7)"
      ]
     },
     "execution_count": 10,
     "metadata": {},
     "output_type": "execute_result"
    }
   ],
   "source": [
    "sto_1_r_df = listgen_to_df(sto_1_r)\n",
    "sto_1_r_df.shape"
   ]
  },
  {
   "cell_type": "code",
   "execution_count": 11,
   "metadata": {},
   "outputs": [
    {
     "data": {
      "text/plain": [
       "(1000, 7)"
      ]
     },
     "execution_count": 11,
     "metadata": {},
     "output_type": "execute_result"
    }
   ],
   "source": [
    "sto_1_c_df = listgen_to_df(sto_1_c)\n",
    "sto_1_c_df.shape"
   ]
  },
  {
   "cell_type": "code",
   "execution_count": 12,
   "metadata": {},
   "outputs": [
    {
     "data": {
      "text/plain": [
       "(3886, 7)"
      ]
     },
     "execution_count": 12,
     "metadata": {},
     "output_type": "execute_result"
    }
   ],
   "source": [
    "# merge scrapes into a single df\n",
    "stoicism_master_df = pd.concat([sto_1_n_df, sto_1_h_df, sto_1_r_df, sto_1_t_df, sto_1_c_df])\n",
    "stoicism_master_df.shape"
   ]
  },
  {
   "cell_type": "code",
   "execution_count": 13,
   "metadata": {},
   "outputs": [],
   "source": [
    "# export scrape to csv file\n",
    "pd.DataFrame.to_csv(stoicism_master_df, 'sto_scrape_11.csv', index=False)"
   ]
  },
  {
   "cell_type": "markdown",
   "metadata": {},
   "source": [
    "### Buddhism"
   ]
  },
  {
   "cell_type": "code",
   "execution_count": 14,
   "metadata": {},
   "outputs": [
    {
     "data": {
      "text/plain": [
       "(989, 7)"
      ]
     },
     "execution_count": 14,
     "metadata": {},
     "output_type": "execute_result"
    }
   ],
   "source": [
    "buh_1_n_df = listgen_to_df(buh_1_n)\n",
    "buh_1_n_df.shape"
   ]
  },
  {
   "cell_type": "code",
   "execution_count": 15,
   "metadata": {},
   "outputs": [
    {
     "data": {
      "text/plain": [
       "(998, 7)"
      ]
     },
     "execution_count": 15,
     "metadata": {},
     "output_type": "execute_result"
    }
   ],
   "source": [
    "buh_1_c_df = listgen_to_df(buh_1_c)\n",
    "buh_1_c_df.shape"
   ]
  },
  {
   "cell_type": "code",
   "execution_count": 16,
   "metadata": {},
   "outputs": [
    {
     "data": {
      "text/plain": [
       "(997, 7)"
      ]
     },
     "execution_count": 16,
     "metadata": {},
     "output_type": "execute_result"
    }
   ],
   "source": [
    "buh_1_h_df = listgen_to_df(buh_1_h)\n",
    "buh_1_h_df.shape"
   ]
  },
  {
   "cell_type": "code",
   "execution_count": 17,
   "metadata": {},
   "outputs": [
    {
     "data": {
      "text/plain": [
       "(25, 7)"
      ]
     },
     "execution_count": 17,
     "metadata": {},
     "output_type": "execute_result"
    }
   ],
   "source": [
    "buh_1_r_df = listgen_to_df(buh_1_r)\n",
    "buh_1_r_df.shape"
   ]
  },
  {
   "cell_type": "code",
   "execution_count": 18,
   "metadata": {},
   "outputs": [
    {
     "data": {
      "text/plain": [
       "(998, 7)"
      ]
     },
     "execution_count": 18,
     "metadata": {},
     "output_type": "execute_result"
    }
   ],
   "source": [
    "buh_1_t_df = listgen_to_df(buh_1_t)\n",
    "buh_1_t_df.shape"
   ]
  },
  {
   "cell_type": "code",
   "execution_count": 19,
   "metadata": {},
   "outputs": [
    {
     "data": {
      "text/plain": [
       "(4007, 7)"
      ]
     },
     "execution_count": 19,
     "metadata": {},
     "output_type": "execute_result"
    }
   ],
   "source": [
    "# merge scrapes into a single df\n",
    "buddhism_master_df = pd.concat([buh_1_t_df, buh_1_r_df, buh_1_h_df, buh_1_c_df,  buh_1_n_df])\n",
    "buddhism_master_df.shape"
   ]
  },
  {
   "cell_type": "code",
   "execution_count": 20,
   "metadata": {},
   "outputs": [],
   "source": [
    "# export scrape to csv file\n",
    "pd.DataFrame.to_csv(buddhism_master_df, 'buddhism_scrape_11.csv', index=False)"
   ]
  },
  {
   "cell_type": "markdown",
   "metadata": {},
   "source": [
    "## Combine Datasets"
   ]
  },
  {
   "cell_type": "markdown",
   "metadata": {},
   "source": [
    "Data was scraped over the course of 9 days from Jan 18th Jan 26th 2024. Below all scraped datasets are combined and exported, ready for cleaning and EDA."
   ]
  },
  {
   "cell_type": "code",
   "execution_count": 21,
   "metadata": {},
   "outputs": [
    {
     "data": {
      "text/html": [
       "<div>\n",
       "<style scoped>\n",
       "    .dataframe tbody tr th:only-of-type {\n",
       "        vertical-align: middle;\n",
       "    }\n",
       "\n",
       "    .dataframe tbody tr th {\n",
       "        vertical-align: top;\n",
       "    }\n",
       "\n",
       "    .dataframe thead th {\n",
       "        text-align: right;\n",
       "    }\n",
       "</style>\n",
       "<table border=\"1\" class=\"dataframe\">\n",
       "  <thead>\n",
       "    <tr style=\"text-align: right;\">\n",
       "      <th></th>\n",
       "      <th>title</th>\n",
       "      <th>selftext</th>\n",
       "      <th>subreddit</th>\n",
       "      <th>created_utc</th>\n",
       "      <th>name</th>\n",
       "      <th>upvote ratio</th>\n",
       "      <th>num_upvotes</th>\n",
       "    </tr>\n",
       "  </thead>\n",
       "  <tbody>\n",
       "    <tr>\n",
       "      <th>0</th>\n",
       "      <td>Buddha’s Four Noble Truths for a four year old</td>\n",
       "      <td>NaN</td>\n",
       "      <td>Buddhism</td>\n",
       "      <td>1.614250e+09</td>\n",
       "      <td>t3_ls3y66</td>\n",
       "      <td>0.98</td>\n",
       "      <td>3879</td>\n",
       "    </tr>\n",
       "    <tr>\n",
       "      <th>1</th>\n",
       "      <td>Thic Nhat Hanh has passed away</td>\n",
       "      <td>NaN</td>\n",
       "      <td>Buddhism</td>\n",
       "      <td>1.642795e+09</td>\n",
       "      <td>t3_s9j9q9</td>\n",
       "      <td>0.98</td>\n",
       "      <td>3731</td>\n",
       "    </tr>\n",
       "    <tr>\n",
       "      <th>2</th>\n",
       "      <td>Drew this last night. Buddhism has enriched my...</td>\n",
       "      <td>NaN</td>\n",
       "      <td>Buddhism</td>\n",
       "      <td>1.486483e+09</td>\n",
       "      <td>t3_5sm4r9</td>\n",
       "      <td>0.91</td>\n",
       "      <td>3667</td>\n",
       "    </tr>\n",
       "    <tr>\n",
       "      <th>3</th>\n",
       "      <td>Made this Buddha painting</td>\n",
       "      <td>NaN</td>\n",
       "      <td>Buddhism</td>\n",
       "      <td>1.603192e+09</td>\n",
       "      <td>t3_jen9kf</td>\n",
       "      <td>0.98</td>\n",
       "      <td>3493</td>\n",
       "    </tr>\n",
       "    <tr>\n",
       "      <th>4</th>\n",
       "      <td>Found this video that compares mindfulness to ...</td>\n",
       "      <td>NaN</td>\n",
       "      <td>Buddhism</td>\n",
       "      <td>1.631042e+09</td>\n",
       "      <td>t3_pjto21</td>\n",
       "      <td>0.98</td>\n",
       "      <td>3336</td>\n",
       "    </tr>\n",
       "    <tr>\n",
       "      <th>...</th>\n",
       "      <td>...</td>\n",
       "      <td>...</td>\n",
       "      <td>...</td>\n",
       "      <td>...</td>\n",
       "      <td>...</td>\n",
       "      <td>...</td>\n",
       "      <td>...</td>\n",
       "    </tr>\n",
       "    <tr>\n",
       "      <th>29557</th>\n",
       "      <td>Book review - Rebirth: A Guide to Mind, Karma,...</td>\n",
       "      <td>*Book author: Roger R. Jackson*  \\n*Publicatio...</td>\n",
       "      <td>Buddhism</td>\n",
       "      <td>1.704115e+09</td>\n",
       "      <td>t3_18vwomu</td>\n",
       "      <td>0.89</td>\n",
       "      <td>15</td>\n",
       "    </tr>\n",
       "    <tr>\n",
       "      <th>29558</th>\n",
       "      <td>How do I let go of the anger? Found out that t...</td>\n",
       "      <td>Sorry for the long post ahead.\\n\\nI was dating...</td>\n",
       "      <td>Buddhism</td>\n",
       "      <td>1.704108e+09</td>\n",
       "      <td>t3_18vupif</td>\n",
       "      <td>0.83</td>\n",
       "      <td>21</td>\n",
       "    </tr>\n",
       "    <tr>\n",
       "      <th>29559</th>\n",
       "      <td>¤¤¤ Weekly /r/Buddhism General Discussion ¤¤¤ ...</td>\n",
       "      <td>This thread is for general discussion, such as...</td>\n",
       "      <td>Buddhism</td>\n",
       "      <td>1.704103e+09</td>\n",
       "      <td>t3_18vtpno</td>\n",
       "      <td>0.88</td>\n",
       "      <td>6</td>\n",
       "    </tr>\n",
       "    <tr>\n",
       "      <th>29560</th>\n",
       "      <td>How to apologize without using the word \"I\"</td>\n",
       "      <td>Attempting not to use \"I\" or \"me\" in my speech...</td>\n",
       "      <td>Buddhism</td>\n",
       "      <td>1.704097e+09</td>\n",
       "      <td>t3_18vsc51</td>\n",
       "      <td>0.39</td>\n",
       "      <td>0</td>\n",
       "    </tr>\n",
       "    <tr>\n",
       "      <th>29561</th>\n",
       "      <td>what is the difference between Humanistic Budd...</td>\n",
       "      <td>From my interpretion both of these Buddhism en...</td>\n",
       "      <td>Buddhism</td>\n",
       "      <td>1.704094e+09</td>\n",
       "      <td>t3_18vrkpk</td>\n",
       "      <td>0.72</td>\n",
       "      <td>3</td>\n",
       "    </tr>\n",
       "  </tbody>\n",
       "</table>\n",
       "<p>29562 rows × 7 columns</p>\n",
       "</div>"
      ],
      "text/plain": [
       "                                                   title  \\\n",
       "0         Buddha’s Four Noble Truths for a four year old   \n",
       "1                         Thic Nhat Hanh has passed away   \n",
       "2      Drew this last night. Buddhism has enriched my...   \n",
       "3                              Made this Buddha painting   \n",
       "4      Found this video that compares mindfulness to ...   \n",
       "...                                                  ...   \n",
       "29557  Book review - Rebirth: A Guide to Mind, Karma,...   \n",
       "29558  How do I let go of the anger? Found out that t...   \n",
       "29559  ¤¤¤ Weekly /r/Buddhism General Discussion ¤¤¤ ...   \n",
       "29560        How to apologize without using the word \"I\"   \n",
       "29561  what is the difference between Humanistic Budd...   \n",
       "\n",
       "                                                selftext subreddit  \\\n",
       "0                                                    NaN  Buddhism   \n",
       "1                                                    NaN  Buddhism   \n",
       "2                                                    NaN  Buddhism   \n",
       "3                                                    NaN  Buddhism   \n",
       "4                                                    NaN  Buddhism   \n",
       "...                                                  ...       ...   \n",
       "29557  *Book author: Roger R. Jackson*  \\n*Publicatio...  Buddhism   \n",
       "29558  Sorry for the long post ahead.\\n\\nI was dating...  Buddhism   \n",
       "29559  This thread is for general discussion, such as...  Buddhism   \n",
       "29560  Attempting not to use \"I\" or \"me\" in my speech...  Buddhism   \n",
       "29561  From my interpretion both of these Buddhism en...  Buddhism   \n",
       "\n",
       "        created_utc        name  upvote ratio  num_upvotes  \n",
       "0      1.614250e+09   t3_ls3y66          0.98         3879  \n",
       "1      1.642795e+09   t3_s9j9q9          0.98         3731  \n",
       "2      1.486483e+09   t3_5sm4r9          0.91         3667  \n",
       "3      1.603192e+09   t3_jen9kf          0.98         3493  \n",
       "4      1.631042e+09   t3_pjto21          0.98         3336  \n",
       "...             ...         ...           ...          ...  \n",
       "29557  1.704115e+09  t3_18vwomu          0.89           15  \n",
       "29558  1.704108e+09  t3_18vupif          0.83           21  \n",
       "29559  1.704103e+09  t3_18vtpno          0.88            6  \n",
       "29560  1.704097e+09  t3_18vsc51          0.39            0  \n",
       "29561  1.704094e+09  t3_18vrkpk          0.72            3  \n",
       "\n",
       "[29562 rows x 7 columns]"
      ]
     },
     "execution_count": 21,
     "metadata": {},
     "output_type": "execute_result"
    }
   ],
   "source": [
    "# Combine buddhism scrapes\n",
    "all_buddhism_scrapes = []\n",
    "for i in range(1, 12): \n",
    "    all_buddhism_scrapes.append(f\"buddhism_scrape_{i}.csv\")\n",
    "\n",
    "b_dfs = [pd.read_csv(file) for file in all_buddhism_scrapes]\n",
    "combined_b_dfs = pd.concat(b_dfs, ignore_index=True)\n",
    "pd.DataFrame.to_csv(combined_b_dfs, './data/combined_buddhism_scrapes.csv', index=False)\n",
    "combined_b_dfs"
   ]
  },
  {
   "cell_type": "code",
   "execution_count": 22,
   "metadata": {},
   "outputs": [
    {
     "data": {
      "text/html": [
       "<div>\n",
       "<style scoped>\n",
       "    .dataframe tbody tr th:only-of-type {\n",
       "        vertical-align: middle;\n",
       "    }\n",
       "\n",
       "    .dataframe tbody tr th {\n",
       "        vertical-align: top;\n",
       "    }\n",
       "\n",
       "    .dataframe thead th {\n",
       "        text-align: right;\n",
       "    }\n",
       "</style>\n",
       "<table border=\"1\" class=\"dataframe\">\n",
       "  <thead>\n",
       "    <tr style=\"text-align: right;\">\n",
       "      <th></th>\n",
       "      <th>title</th>\n",
       "      <th>selftext</th>\n",
       "      <th>subreddit</th>\n",
       "      <th>created_utc</th>\n",
       "      <th>name</th>\n",
       "      <th>upvote ratio</th>\n",
       "      <th>num_upvotes</th>\n",
       "    </tr>\n",
       "  </thead>\n",
       "  <tbody>\n",
       "    <tr>\n",
       "      <th>0</th>\n",
       "      <td>Looking for Seneca's quote on why even bed fle...</td>\n",
       "      <td>I think it was Seneca who wrote something alon...</td>\n",
       "      <td>Stoicism</td>\n",
       "      <td>1.705696e+09</td>\n",
       "      <td>t3_19aswwj</td>\n",
       "      <td>0.67</td>\n",
       "      <td>1</td>\n",
       "    </tr>\n",
       "    <tr>\n",
       "      <th>1</th>\n",
       "      <td>READ BEFORE POSTING: r/Stoicism beginner's gui...</td>\n",
       "      <td>Welcome to the r/Stoicism subreddit, a forum f...</td>\n",
       "      <td>Stoicism</td>\n",
       "      <td>1.705694e+09</td>\n",
       "      <td>t3_19as7c7</td>\n",
       "      <td>0.76</td>\n",
       "      <td>2</td>\n",
       "    </tr>\n",
       "    <tr>\n",
       "      <th>2</th>\n",
       "      <td>The New Agora: Daily WWYD and light discussion...</td>\n",
       "      <td>Welcome to the New Agora, a place for you and ...</td>\n",
       "      <td>Stoicism</td>\n",
       "      <td>1.705694e+09</td>\n",
       "      <td>t3_19as6qt</td>\n",
       "      <td>0.76</td>\n",
       "      <td>2</td>\n",
       "    </tr>\n",
       "    <tr>\n",
       "      <th>3</th>\n",
       "      <td>My biggest life mistake was wanting to live an...</td>\n",
       "      <td>2023 summons this the best, I didn’t want to e...</td>\n",
       "      <td>Stoicism</td>\n",
       "      <td>1.705691e+09</td>\n",
       "      <td>t3_19aqv6w</td>\n",
       "      <td>0.94</td>\n",
       "      <td>27</td>\n",
       "    </tr>\n",
       "    <tr>\n",
       "      <th>4</th>\n",
       "      <td>What’s your favorite way to practice gratitude...</td>\n",
       "      <td>You can mention some relevant quotes as well.</td>\n",
       "      <td>Stoicism</td>\n",
       "      <td>1.705691e+09</td>\n",
       "      <td>t3_19aqp1z</td>\n",
       "      <td>1.00</td>\n",
       "      <td>3</td>\n",
       "    </tr>\n",
       "    <tr>\n",
       "      <th>...</th>\n",
       "      <td>...</td>\n",
       "      <td>...</td>\n",
       "      <td>...</td>\n",
       "      <td>...</td>\n",
       "      <td>...</td>\n",
       "      <td>...</td>\n",
       "      <td>...</td>\n",
       "    </tr>\n",
       "    <tr>\n",
       "      <th>28990</th>\n",
       "      <td>Greetings from the Caribbeans</td>\n",
       "      <td>My name is Lætitia, I just landed here, nice t...</td>\n",
       "      <td>Stoicism</td>\n",
       "      <td>1.694926e+09</td>\n",
       "      <td>t3_16krukb</td>\n",
       "      <td>0.53</td>\n",
       "      <td>1</td>\n",
       "    </tr>\n",
       "    <tr>\n",
       "      <th>28991</th>\n",
       "      <td>Stoic Approach to Dealing with Pedestrians Who...</td>\n",
       "      <td>I'm sure we've all been in this situation befo...</td>\n",
       "      <td>Stoicism</td>\n",
       "      <td>1.694474e+09</td>\n",
       "      <td>t3_16gavw2</td>\n",
       "      <td>0.44</td>\n",
       "      <td>0</td>\n",
       "    </tr>\n",
       "    <tr>\n",
       "      <th>28992</th>\n",
       "      <td>Does God have a sense of humour?</td>\n",
       "      <td>Does God, as referred to by Marcus Aurelius,  ...</td>\n",
       "      <td>Stoicism</td>\n",
       "      <td>1.693052e+09</td>\n",
       "      <td>t3_161ts4i</td>\n",
       "      <td>0.50</td>\n",
       "      <td>0</td>\n",
       "    </tr>\n",
       "    <tr>\n",
       "      <th>28993</th>\n",
       "      <td>Ryan Holiday Reading From Anything…</td>\n",
       "      <td>Sorry this is old news but can we talk about R...</td>\n",
       "      <td>Stoicism</td>\n",
       "      <td>1.689195e+09</td>\n",
       "      <td>t3_14y0bgp</td>\n",
       "      <td>0.43</td>\n",
       "      <td>0</td>\n",
       "    </tr>\n",
       "    <tr>\n",
       "      <th>28994</th>\n",
       "      <td>Half-Sister [50F] reached out to me [42M]: Tur...</td>\n",
       "      <td>TLDR: Half-sister wants to connect but she's c...</td>\n",
       "      <td>Stoicism</td>\n",
       "      <td>1.706160e+09</td>\n",
       "      <td>t3_19f1olp</td>\n",
       "      <td>0.30</td>\n",
       "      <td>0</td>\n",
       "    </tr>\n",
       "  </tbody>\n",
       "</table>\n",
       "<p>28995 rows × 7 columns</p>\n",
       "</div>"
      ],
      "text/plain": [
       "                                                   title  \\\n",
       "0      Looking for Seneca's quote on why even bed fle...   \n",
       "1      READ BEFORE POSTING: r/Stoicism beginner's gui...   \n",
       "2      The New Agora: Daily WWYD and light discussion...   \n",
       "3      My biggest life mistake was wanting to live an...   \n",
       "4      What’s your favorite way to practice gratitude...   \n",
       "...                                                  ...   \n",
       "28990                      Greetings from the Caribbeans   \n",
       "28991  Stoic Approach to Dealing with Pedestrians Who...   \n",
       "28992                   Does God have a sense of humour?   \n",
       "28993                Ryan Holiday Reading From Anything…   \n",
       "28994  Half-Sister [50F] reached out to me [42M]: Tur...   \n",
       "\n",
       "                                                selftext subreddit  \\\n",
       "0      I think it was Seneca who wrote something alon...  Stoicism   \n",
       "1      Welcome to the r/Stoicism subreddit, a forum f...  Stoicism   \n",
       "2      Welcome to the New Agora, a place for you and ...  Stoicism   \n",
       "3      2023 summons this the best, I didn’t want to e...  Stoicism   \n",
       "4          You can mention some relevant quotes as well.  Stoicism   \n",
       "...                                                  ...       ...   \n",
       "28990  My name is Lætitia, I just landed here, nice t...  Stoicism   \n",
       "28991  I'm sure we've all been in this situation befo...  Stoicism   \n",
       "28992  Does God, as referred to by Marcus Aurelius,  ...  Stoicism   \n",
       "28993  Sorry this is old news but can we talk about R...  Stoicism   \n",
       "28994  TLDR: Half-sister wants to connect but she's c...  Stoicism   \n",
       "\n",
       "        created_utc        name  upvote ratio  num_upvotes  \n",
       "0      1.705696e+09  t3_19aswwj          0.67            1  \n",
       "1      1.705694e+09  t3_19as7c7          0.76            2  \n",
       "2      1.705694e+09  t3_19as6qt          0.76            2  \n",
       "3      1.705691e+09  t3_19aqv6w          0.94           27  \n",
       "4      1.705691e+09  t3_19aqp1z          1.00            3  \n",
       "...             ...         ...           ...          ...  \n",
       "28990  1.694926e+09  t3_16krukb          0.53            1  \n",
       "28991  1.694474e+09  t3_16gavw2          0.44            0  \n",
       "28992  1.693052e+09  t3_161ts4i          0.50            0  \n",
       "28993  1.689195e+09  t3_14y0bgp          0.43            0  \n",
       "28994  1.706160e+09  t3_19f1olp          0.30            0  \n",
       "\n",
       "[28995 rows x 7 columns]"
      ]
     },
     "execution_count": 22,
     "metadata": {},
     "output_type": "execute_result"
    }
   ],
   "source": [
    "# Combine buddhism scrapes\n",
    "all_sto_scrapes = []\n",
    "for i in range(1, 12): \n",
    "    all_sto_scrapes.append(f\"sto_scrape_{i}.csv\")\n",
    "\n",
    "s_dfs = [pd.read_csv(file) for file in all_sto_scrapes]\n",
    "combined_s_dfs = pd.concat(s_dfs, ignore_index=True)\n",
    "pd.DataFrame.to_csv(combined_s_dfs, './data/combined_stoicism_scrapes.csv', index=False)\n",
    "combined_s_dfs"
   ]
  }
 ],
 "metadata": {
  "kernelspec": {
   "display_name": "base",
   "language": "python",
   "name": "python3"
  },
  "language_info": {
   "codemirror_mode": {
    "name": "ipython",
    "version": 3
   },
   "file_extension": ".py",
   "mimetype": "text/x-python",
   "name": "python",
   "nbconvert_exporter": "python",
   "pygments_lexer": "ipython3",
   "version": "3.11.5"
  }
 },
 "nbformat": 4,
 "nbformat_minor": 2
}
