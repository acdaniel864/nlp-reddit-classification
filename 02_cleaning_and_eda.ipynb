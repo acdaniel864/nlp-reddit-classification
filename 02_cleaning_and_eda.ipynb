{
 "cells": [
  {
   "cell_type": "markdown",
   "metadata": {},
   "source": [
    "# Data Cleaning & EDA "
   ]
  },
  {
   "cell_type": "code",
   "execution_count": 1,
   "metadata": {},
   "outputs": [],
   "source": [
    "import pandas as pd\n",
    "import matplotlib.pyplot as plt \n",
    "import re\n",
    "from functions import top_words_subreddit"
   ]
  },
  {
   "cell_type": "code",
   "execution_count": 2,
   "metadata": {},
   "outputs": [
    {
     "data": {
      "text/html": [
       "<div>\n",
       "<style scoped>\n",
       "    .dataframe tbody tr th:only-of-type {\n",
       "        vertical-align: middle;\n",
       "    }\n",
       "\n",
       "    .dataframe tbody tr th {\n",
       "        vertical-align: top;\n",
       "    }\n",
       "\n",
       "    .dataframe thead th {\n",
       "        text-align: right;\n",
       "    }\n",
       "</style>\n",
       "<table border=\"1\" class=\"dataframe\">\n",
       "  <thead>\n",
       "    <tr style=\"text-align: right;\">\n",
       "      <th></th>\n",
       "      <th>title</th>\n",
       "      <th>selftext</th>\n",
       "      <th>subreddit</th>\n",
       "      <th>created_utc</th>\n",
       "      <th>name</th>\n",
       "      <th>upvote ratio</th>\n",
       "      <th>num_upvotes</th>\n",
       "    </tr>\n",
       "  </thead>\n",
       "  <tbody>\n",
       "    <tr>\n",
       "      <th>0</th>\n",
       "      <td>Buddha’s Four Noble Truths for a four year old</td>\n",
       "      <td>NaN</td>\n",
       "      <td>Buddhism</td>\n",
       "      <td>1.614250e+09</td>\n",
       "      <td>t3_ls3y66</td>\n",
       "      <td>0.98</td>\n",
       "      <td>3879</td>\n",
       "    </tr>\n",
       "    <tr>\n",
       "      <th>1</th>\n",
       "      <td>Thic Nhat Hanh has passed away</td>\n",
       "      <td>NaN</td>\n",
       "      <td>Buddhism</td>\n",
       "      <td>1.642795e+09</td>\n",
       "      <td>t3_s9j9q9</td>\n",
       "      <td>0.98</td>\n",
       "      <td>3731</td>\n",
       "    </tr>\n",
       "    <tr>\n",
       "      <th>2</th>\n",
       "      <td>Drew this last night. Buddhism has enriched my...</td>\n",
       "      <td>NaN</td>\n",
       "      <td>Buddhism</td>\n",
       "      <td>1.486483e+09</td>\n",
       "      <td>t3_5sm4r9</td>\n",
       "      <td>0.91</td>\n",
       "      <td>3667</td>\n",
       "    </tr>\n",
       "    <tr>\n",
       "      <th>3</th>\n",
       "      <td>Made this Buddha painting</td>\n",
       "      <td>NaN</td>\n",
       "      <td>Buddhism</td>\n",
       "      <td>1.603192e+09</td>\n",
       "      <td>t3_jen9kf</td>\n",
       "      <td>0.98</td>\n",
       "      <td>3493</td>\n",
       "    </tr>\n",
       "    <tr>\n",
       "      <th>4</th>\n",
       "      <td>Found this video that compares mindfulness to ...</td>\n",
       "      <td>NaN</td>\n",
       "      <td>Buddhism</td>\n",
       "      <td>1.631042e+09</td>\n",
       "      <td>t3_pjto21</td>\n",
       "      <td>0.98</td>\n",
       "      <td>3336</td>\n",
       "    </tr>\n",
       "  </tbody>\n",
       "</table>\n",
       "</div>"
      ],
      "text/plain": [
       "                                               title selftext subreddit  \\\n",
       "0     Buddha’s Four Noble Truths for a four year old      NaN  Buddhism   \n",
       "1                     Thic Nhat Hanh has passed away      NaN  Buddhism   \n",
       "2  Drew this last night. Buddhism has enriched my...      NaN  Buddhism   \n",
       "3                          Made this Buddha painting      NaN  Buddhism   \n",
       "4  Found this video that compares mindfulness to ...      NaN  Buddhism   \n",
       "\n",
       "    created_utc       name  upvote ratio  num_upvotes  \n",
       "0  1.614250e+09  t3_ls3y66          0.98         3879  \n",
       "1  1.642795e+09  t3_s9j9q9          0.98         3731  \n",
       "2  1.486483e+09  t3_5sm4r9          0.91         3667  \n",
       "3  1.603192e+09  t3_jen9kf          0.98         3493  \n",
       "4  1.631042e+09  t3_pjto21          0.98         3336  "
      ]
     },
     "execution_count": 2,
     "metadata": {},
     "output_type": "execute_result"
    }
   ],
   "source": [
    "df_b = pd.read_csv('./data/raw_scrapes/combined_buddhism_scrapes.csv')\n",
    "df_b.head() "
   ]
  },
  {
   "cell_type": "code",
   "execution_count": 3,
   "metadata": {},
   "outputs": [
    {
     "data": {
      "text/html": [
       "<div>\n",
       "<style scoped>\n",
       "    .dataframe tbody tr th:only-of-type {\n",
       "        vertical-align: middle;\n",
       "    }\n",
       "\n",
       "    .dataframe tbody tr th {\n",
       "        vertical-align: top;\n",
       "    }\n",
       "\n",
       "    .dataframe thead th {\n",
       "        text-align: right;\n",
       "    }\n",
       "</style>\n",
       "<table border=\"1\" class=\"dataframe\">\n",
       "  <thead>\n",
       "    <tr style=\"text-align: right;\">\n",
       "      <th></th>\n",
       "      <th>title</th>\n",
       "      <th>selftext</th>\n",
       "      <th>subreddit</th>\n",
       "      <th>created_utc</th>\n",
       "      <th>name</th>\n",
       "      <th>upvote ratio</th>\n",
       "      <th>num_upvotes</th>\n",
       "    </tr>\n",
       "  </thead>\n",
       "  <tbody>\n",
       "    <tr>\n",
       "      <th>0</th>\n",
       "      <td>Looking for Seneca's quote on why even bed fle...</td>\n",
       "      <td>I think it was Seneca who wrote something alon...</td>\n",
       "      <td>Stoicism</td>\n",
       "      <td>1.705696e+09</td>\n",
       "      <td>t3_19aswwj</td>\n",
       "      <td>0.67</td>\n",
       "      <td>1</td>\n",
       "    </tr>\n",
       "    <tr>\n",
       "      <th>1</th>\n",
       "      <td>READ BEFORE POSTING: r/Stoicism beginner's gui...</td>\n",
       "      <td>Welcome to the r/Stoicism subreddit, a forum f...</td>\n",
       "      <td>Stoicism</td>\n",
       "      <td>1.705694e+09</td>\n",
       "      <td>t3_19as7c7</td>\n",
       "      <td>0.76</td>\n",
       "      <td>2</td>\n",
       "    </tr>\n",
       "    <tr>\n",
       "      <th>2</th>\n",
       "      <td>The New Agora: Daily WWYD and light discussion...</td>\n",
       "      <td>Welcome to the New Agora, a place for you and ...</td>\n",
       "      <td>Stoicism</td>\n",
       "      <td>1.705694e+09</td>\n",
       "      <td>t3_19as6qt</td>\n",
       "      <td>0.76</td>\n",
       "      <td>2</td>\n",
       "    </tr>\n",
       "    <tr>\n",
       "      <th>3</th>\n",
       "      <td>My biggest life mistake was wanting to live an...</td>\n",
       "      <td>2023 summons this the best, I didn’t want to e...</td>\n",
       "      <td>Stoicism</td>\n",
       "      <td>1.705691e+09</td>\n",
       "      <td>t3_19aqv6w</td>\n",
       "      <td>0.94</td>\n",
       "      <td>27</td>\n",
       "    </tr>\n",
       "    <tr>\n",
       "      <th>4</th>\n",
       "      <td>What’s your favorite way to practice gratitude...</td>\n",
       "      <td>You can mention some relevant quotes as well.</td>\n",
       "      <td>Stoicism</td>\n",
       "      <td>1.705691e+09</td>\n",
       "      <td>t3_19aqp1z</td>\n",
       "      <td>1.00</td>\n",
       "      <td>3</td>\n",
       "    </tr>\n",
       "  </tbody>\n",
       "</table>\n",
       "</div>"
      ],
      "text/plain": [
       "                                               title  \\\n",
       "0  Looking for Seneca's quote on why even bed fle...   \n",
       "1  READ BEFORE POSTING: r/Stoicism beginner's gui...   \n",
       "2  The New Agora: Daily WWYD and light discussion...   \n",
       "3  My biggest life mistake was wanting to live an...   \n",
       "4  What’s your favorite way to practice gratitude...   \n",
       "\n",
       "                                            selftext subreddit   created_utc  \\\n",
       "0  I think it was Seneca who wrote something alon...  Stoicism  1.705696e+09   \n",
       "1  Welcome to the r/Stoicism subreddit, a forum f...  Stoicism  1.705694e+09   \n",
       "2  Welcome to the New Agora, a place for you and ...  Stoicism  1.705694e+09   \n",
       "3  2023 summons this the best, I didn’t want to e...  Stoicism  1.705691e+09   \n",
       "4      You can mention some relevant quotes as well.  Stoicism  1.705691e+09   \n",
       "\n",
       "         name  upvote ratio  num_upvotes  \n",
       "0  t3_19aswwj          0.67            1  \n",
       "1  t3_19as7c7          0.76            2  \n",
       "2  t3_19as6qt          0.76            2  \n",
       "3  t3_19aqv6w          0.94           27  \n",
       "4  t3_19aqp1z          1.00            3  "
      ]
     },
     "execution_count": 3,
     "metadata": {},
     "output_type": "execute_result"
    }
   ],
   "source": [
    "df_s = pd.read_csv('./data/raw_scrapes/combined_stoicism_scrapes.csv')\n",
    "df_s.head()"
   ]
  },
  {
   "cell_type": "markdown",
   "metadata": {},
   "source": [
    "### Removal of Nulls and Duplicates"
   ]
  },
  {
   "cell_type": "code",
   "execution_count": 4,
   "metadata": {},
   "outputs": [
    {
     "name": "stdout",
     "output_type": "stream",
     "text": [
      "b: (29562, 7)\n",
      "s: (28995, 7)\n",
      "b duplicates: 26281\n",
      "s duplicates: 25934\n"
     ]
    }
   ],
   "source": [
    "print('b:',df_b.shape)\n",
    "print('s:',df_s.shape)\n",
    "# Check for duplicates in the name column - name is a unique post identifier allocated by reddit \n",
    "duplicates_b = df_b.duplicated(subset=['name', 'selftext'])\n",
    "print('b duplicates:',duplicates_b.sum())\n",
    "duplicates_s = df_s.duplicated(subset=['name', 'selftext'])\n",
    "print('s duplicates:',duplicates_s.sum())"
   ]
  },
  {
   "cell_type": "code",
   "execution_count": 5,
   "metadata": {},
   "outputs": [
    {
     "name": "stdout",
     "output_type": "stream",
     "text": [
      "b: (3279, 7)\n",
      "s: (3057, 7)\n"
     ]
    }
   ],
   "source": [
    "# Drop duplicates in the name column \n",
    "df_b.drop_duplicates(subset='name', inplace=True)\n",
    "df_s.drop_duplicates(subset='name', inplace=True)\n",
    "print('b:',df_b.shape)\n",
    "print('s:',df_s.shape)"
   ]
  },
  {
   "cell_type": "code",
   "execution_count": 6,
   "metadata": {},
   "outputs": [
    {
     "data": {
      "text/plain": [
       "title              0\n",
       "selftext        1480\n",
       "subreddit          0\n",
       "created_utc        0\n",
       "name               0\n",
       "upvote ratio       0\n",
       "num_upvotes        0\n",
       "dtype: int64"
      ]
     },
     "execution_count": 6,
     "metadata": {},
     "output_type": "execute_result"
    }
   ],
   "source": [
    "df_b.isnull().sum()"
   ]
  },
  {
   "cell_type": "code",
   "execution_count": 7,
   "metadata": {},
   "outputs": [
    {
     "data": {
      "text/plain": [
       "title             0\n",
       "selftext        747\n",
       "subreddit         0\n",
       "created_utc       0\n",
       "name              0\n",
       "upvote ratio      0\n",
       "num_upvotes       0\n",
       "dtype: int64"
      ]
     },
     "execution_count": 7,
     "metadata": {},
     "output_type": "execute_result"
    }
   ],
   "source": [
    "df_s.isnull().sum()"
   ]
  },
  {
   "cell_type": "code",
   "execution_count": 8,
   "metadata": {},
   "outputs": [
    {
     "data": {
      "text/plain": [
       "title            0\n",
       "selftext         0\n",
       "subreddit        0\n",
       "created_utc      0\n",
       "name             0\n",
       "upvote ratio     0\n",
       "num_upvotes      0\n",
       "combined_text    0\n",
       "dtype: int64"
      ]
     },
     "execution_count": 8,
     "metadata": {},
     "output_type": "execute_result"
    }
   ],
   "source": [
    "# Combine dataframes together and create combined title with column with selftext columns \n",
    "df = pd.concat([df_s, df_b])\n",
    "df['selftext'].fillna('', inplace=True)\n",
    "df['combined_text'] = df['title']+ ' ' +df['selftext']\n",
    "df.isna().sum()"
   ]
  },
  {
   "cell_type": "markdown",
   "metadata": {},
   "source": [
    "### Make Target Feature and EDA"
   ]
  },
  {
   "cell_type": "code",
   "execution_count": 9,
   "metadata": {},
   "outputs": [],
   "source": [
    "# Create target column and features\n",
    "df['is_stoicism'] = df['subreddit'].map({'Stoicism' : 1, 'Buddhism' : 0})"
   ]
  },
  {
   "cell_type": "code",
   "execution_count": 10,
   "metadata": {},
   "outputs": [
    {
     "data": {
      "text/html": [
       "<div>\n",
       "<style scoped>\n",
       "    .dataframe tbody tr th:only-of-type {\n",
       "        vertical-align: middle;\n",
       "    }\n",
       "\n",
       "    .dataframe tbody tr th {\n",
       "        vertical-align: top;\n",
       "    }\n",
       "\n",
       "    .dataframe thead th {\n",
       "        text-align: right;\n",
       "    }\n",
       "</style>\n",
       "<table border=\"1\" class=\"dataframe\">\n",
       "  <thead>\n",
       "    <tr style=\"text-align: right;\">\n",
       "      <th></th>\n",
       "      <th>created_utc</th>\n",
       "      <th>upvote ratio</th>\n",
       "      <th>num_upvotes</th>\n",
       "      <th>is_stoicism</th>\n",
       "    </tr>\n",
       "  </thead>\n",
       "  <tbody>\n",
       "    <tr>\n",
       "      <th>count</th>\n",
       "      <td>6.336000e+03</td>\n",
       "      <td>6336.000000</td>\n",
       "      <td>6336.000000</td>\n",
       "      <td>6336.000000</td>\n",
       "    </tr>\n",
       "    <tr>\n",
       "      <th>mean</th>\n",
       "      <td>1.629753e+09</td>\n",
       "      <td>0.754741</td>\n",
       "      <td>356.663826</td>\n",
       "      <td>0.482481</td>\n",
       "    </tr>\n",
       "    <tr>\n",
       "      <th>std</th>\n",
       "      <td>9.143643e+07</td>\n",
       "      <td>0.215018</td>\n",
       "      <td>706.450034</td>\n",
       "      <td>0.499732</td>\n",
       "    </tr>\n",
       "    <tr>\n",
       "      <th>min</th>\n",
       "      <td>1.220829e+09</td>\n",
       "      <td>0.060000</td>\n",
       "      <td>0.000000</td>\n",
       "      <td>0.000000</td>\n",
       "    </tr>\n",
       "    <tr>\n",
       "      <th>25%</th>\n",
       "      <td>1.584717e+09</td>\n",
       "      <td>0.540000</td>\n",
       "      <td>1.000000</td>\n",
       "      <td>0.000000</td>\n",
       "    </tr>\n",
       "    <tr>\n",
       "      <th>50%</th>\n",
       "      <td>1.661593e+09</td>\n",
       "      <td>0.790000</td>\n",
       "      <td>7.000000</td>\n",
       "      <td>0.000000</td>\n",
       "    </tr>\n",
       "    <tr>\n",
       "      <th>75%</th>\n",
       "      <td>1.703970e+09</td>\n",
       "      <td>0.980000</td>\n",
       "      <td>610.250000</td>\n",
       "      <td>1.000000</td>\n",
       "    </tr>\n",
       "    <tr>\n",
       "      <th>max</th>\n",
       "      <td>1.706300e+09</td>\n",
       "      <td>1.000000</td>\n",
       "      <td>11939.000000</td>\n",
       "      <td>1.000000</td>\n",
       "    </tr>\n",
       "  </tbody>\n",
       "</table>\n",
       "</div>"
      ],
      "text/plain": [
       "        created_utc  upvote ratio   num_upvotes  is_stoicism\n",
       "count  6.336000e+03   6336.000000   6336.000000  6336.000000\n",
       "mean   1.629753e+09      0.754741    356.663826     0.482481\n",
       "std    9.143643e+07      0.215018    706.450034     0.499732\n",
       "min    1.220829e+09      0.060000      0.000000     0.000000\n",
       "25%    1.584717e+09      0.540000      1.000000     0.000000\n",
       "50%    1.661593e+09      0.790000      7.000000     0.000000\n",
       "75%    1.703970e+09      0.980000    610.250000     1.000000\n",
       "max    1.706300e+09      1.000000  11939.000000     1.000000"
      ]
     },
     "execution_count": 10,
     "metadata": {},
     "output_type": "execute_result"
    }
   ],
   "source": [
    "df.describe()"
   ]
  },
  {
   "cell_type": "code",
   "execution_count": 11,
   "metadata": {},
   "outputs": [
    {
     "data": {
      "image/png": "[encoded data removed]",
      "text/plain": [
       "<Figure size 640x480 with 1 Axes>"
      ]
     },
     "metadata": {},
     "output_type": "display_data"
    }
   ],
   "source": [
    "plt.hist(df['upvote ratio'], bins=50);"
   ]
  },
  {
   "cell_type": "markdown",
   "metadata": {},
   "source": [
    "- Upvote ratio distribution is skewed left - most posts have more up votes than downvotes suggesting if people are inclinded to vote it is usually in a positive direction.<br/>\n",
    "- Spike at 0.5 likely suggests posts that had no votes, this idea supported by the grpah below showing many posts with no upvotes.<br/>"
   ]
  },
  {
   "cell_type": "code",
   "execution_count": 12,
   "metadata": {},
   "outputs": [
    {
     "data": {
      "image/png": "[encoded data removed]",
      "text/plain": [
       "<Figure size 640x480 with 1 Axes>"
      ]
     },
     "metadata": {},
     "output_type": "display_data"
    }
   ],
   "source": [
    "plt.hist(df['num_upvotes'], bins=50);"
   ]
  },
  {
   "cell_type": "markdown",
   "metadata": {},
   "source": [
    "- Num_upvotes skewed right, most posts have very few and some have lots. This is unsuprising in many ways, most posts recieve very little attention but some recieve a lot of attention and many upvotes.<br/>\n",
    "- There are some exteme outliers suggesting some viral posts.<br/>"
   ]
  },
  {
   "cell_type": "code",
   "execution_count": 13,
   "metadata": {},
   "outputs": [
    {
     "data": {
      "text/plain": [
       "5869"
      ]
     },
     "execution_count": 13,
     "metadata": {},
     "output_type": "execute_result"
    }
   ],
   "source": [
    "# Check punctiation in df \n",
    "df['combined_text'].str.contains(r'[^\\w\\s]').sum()"
   ]
  },
  {
   "cell_type": "code",
   "execution_count": 14,
   "metadata": {},
   "outputs": [
    {
     "data": {
      "text/plain": [
       "0"
      ]
     },
     "execution_count": 14,
     "metadata": {},
     "output_type": "execute_result"
    }
   ],
   "source": [
    "# Remove punctuation from df \n",
    "# Source: https://www.includehelp.com/python/fast-punctuation-removal-with-pandas.aspx\n",
    "df['combined_text'] = df['combined_text'].str.replace(r'[^\\w\\s]+', '', regex=True)\n",
    "df['combined_text'].str.contains(r'[^\\w\\s]').sum()  # check "
   ]
  },
  {
   "cell_type": "code",
   "execution_count": 15,
   "metadata": {},
   "outputs": [],
   "source": [
    "# Create a variable for word count per submission\n",
    "def word_count(text):\n",
    "    try: \n",
    "        length = len(text.split())\n",
    "    except ValueError:\n",
    "        pass\n",
    "    return length\n",
    "\n",
    "df['word_count'] = df['combined_text'].apply(word_count)"
   ]
  },
  {
   "cell_type": "code",
   "execution_count": 16,
   "metadata": {},
   "outputs": [
    {
     "data": {
      "text/plain": [
       "subreddit\n",
       "Buddhism    327513\n",
       "Stoicism    436787\n",
       "Name: word_count, dtype: int64"
      ]
     },
     "execution_count": 16,
     "metadata": {},
     "output_type": "execute_result"
    }
   ],
   "source": [
    "df.groupby('subreddit')['word_count'].sum()"
   ]
  },
  {
   "cell_type": "code",
   "execution_count": 17,
   "metadata": {},
   "outputs": [
    {
     "data": {
      "text/plain": [
       "subreddit\n",
       "Buddhism    34.0\n",
       "Stoicism    83.0\n",
       "Name: word_count, dtype: float64"
      ]
     },
     "execution_count": 17,
     "metadata": {},
     "output_type": "execute_result"
    }
   ],
   "source": [
    "df.groupby('subreddit')['word_count'].median()"
   ]
  },
  {
   "cell_type": "code",
   "execution_count": 18,
   "metadata": {},
   "outputs": [
    {
     "data": {
      "text/plain": [
       "subreddit\n",
       "Buddhism     99.881976\n",
       "Stoicism    142.880929\n",
       "Name: word_count, dtype: float64"
      ]
     },
     "execution_count": 18,
     "metadata": {},
     "output_type": "execute_result"
    }
   ],
   "source": [
    "df.groupby('subreddit')['word_count'].mean()"
   ]
  },
  {
   "cell_type": "code",
   "execution_count": 19,
   "metadata": {},
   "outputs": [
    {
     "data": {
      "image/png": "[encoded data removed]",
      "text/plain": [
       "<Figure size 1500x600 with 2 Axes>"
      ]
     },
     "metadata": {},
     "output_type": "display_data"
    }
   ],
   "source": [
    "# Create histograms to visualise word count by subreddit \n",
    "stoicism_df = df[df['subreddit'] == 'Stoicism']\n",
    "buddhism_df = df[df['subreddit'] == 'Buddhism']\n",
    "\n",
    "fig, axs = plt.subplots(1, 2, figsize=(15, 6))\n",
    "\n",
    "axs[0].hist(stoicism_df['word_count'], bins=30)\n",
    "axs[0].set_title('Word Count Distribution in Stoicism Subreddit')\n",
    "axs[0].set_xlabel('Word Count')\n",
    "axs[0].set_xlim(0, 2500)\n",
    "axs[0].set_ylim(0, 2500) \n",
    "axs[0].grid(True)\n",
    "\n",
    "axs[1].hist(buddhism_df['word_count'], bins=30, color = 'DarkOrange')\n",
    "axs[1].set_title('Word Count Distribution in Buddhism Subreddit')\n",
    "axs[1].set_xlabel('Word Count')\n",
    "axs[1].set_xlim(0, 2500)\n",
    "axs[1].set_ylim(0, 2500) \n",
    "axs[1].grid(True);"
   ]
  },
  {
   "cell_type": "markdown",
   "metadata": {},
   "source": [
    "- Fairly similar distributions. \n",
    "- As to be expected from means obvserved, Stoicism distibution has fewer short length posts and a slightly wider distribution of word count. \n",
    "- There are 25% more words in the stoicism corpus, which might suggest the model will be better at identifying the positive class (the stoicism subreddits), based on the idea that more data leads to more accurate classification. "
   ]
  },
  {
   "cell_type": "markdown",
   "metadata": {},
   "source": [
    "### View top appearing words by subreddit:\n",
    "Function defined in file functions.py included in project folder."
   ]
  },
  {
   "cell_type": "code",
   "execution_count": 20,
   "metadata": {},
   "outputs": [
    {
     "data": {
      "text/html": [
       "<div>\n",
       "<style scoped>\n",
       "    .dataframe tbody tr th:only-of-type {\n",
       "        vertical-align: middle;\n",
       "    }\n",
       "\n",
       "    .dataframe tbody tr th {\n",
       "        vertical-align: top;\n",
       "    }\n",
       "\n",
       "    .dataframe thead th {\n",
       "        text-align: right;\n",
       "    }\n",
       "</style>\n",
       "<table border=\"1\" class=\"dataframe\">\n",
       "  <thead>\n",
       "    <tr style=\"text-align: right;\">\n",
       "      <th></th>\n",
       "      <th>buddhism</th>\n",
       "      <th>stoicism</th>\n",
       "    </tr>\n",
       "  </thead>\n",
       "  <tbody>\n",
       "    <tr>\n",
       "      <th>to</th>\n",
       "      <td>14276.0</td>\n",
       "      <td>11556.0</td>\n",
       "    </tr>\n",
       "    <tr>\n",
       "      <th>the</th>\n",
       "      <td>13967.0</td>\n",
       "      <td>11125.0</td>\n",
       "    </tr>\n",
       "    <tr>\n",
       "      <th>and</th>\n",
       "      <td>12679.0</td>\n",
       "      <td>10375.0</td>\n",
       "    </tr>\n",
       "    <tr>\n",
       "      <th>of</th>\n",
       "      <td>8860.0</td>\n",
       "      <td>7159.0</td>\n",
       "    </tr>\n",
       "    <tr>\n",
       "      <th>is</th>\n",
       "      <td>6399.0</td>\n",
       "      <td>4960.0</td>\n",
       "    </tr>\n",
       "    <tr>\n",
       "      <th>that</th>\n",
       "      <td>6359.0</td>\n",
       "      <td>5012.0</td>\n",
       "    </tr>\n",
       "    <tr>\n",
       "      <th>in</th>\n",
       "      <td>6218.0</td>\n",
       "      <td>5173.0</td>\n",
       "    </tr>\n",
       "    <tr>\n",
       "      <th>you</th>\n",
       "      <td>5699.0</td>\n",
       "      <td>3962.0</td>\n",
       "    </tr>\n",
       "    <tr>\n",
       "      <th>it</th>\n",
       "      <td>5254.0</td>\n",
       "      <td>4062.0</td>\n",
       "    </tr>\n",
       "    <tr>\n",
       "      <th>my</th>\n",
       "      <td>5000.0</td>\n",
       "      <td>4338.0</td>\n",
       "    </tr>\n",
       "    <tr>\n",
       "      <th>this</th>\n",
       "      <td>3967.0</td>\n",
       "      <td>3195.0</td>\n",
       "    </tr>\n",
       "    <tr>\n",
       "      <th>for</th>\n",
       "      <td>3827.0</td>\n",
       "      <td>3092.0</td>\n",
       "    </tr>\n",
       "    <tr>\n",
       "      <th>not</th>\n",
       "      <td>3404.0</td>\n",
       "      <td>2629.0</td>\n",
       "    </tr>\n",
       "    <tr>\n",
       "      <th>but</th>\n",
       "      <td>3401.0</td>\n",
       "      <td>2722.0</td>\n",
       "    </tr>\n",
       "    <tr>\n",
       "      <th>me</th>\n",
       "      <td>3329.0</td>\n",
       "      <td>2796.0</td>\n",
       "    </tr>\n",
       "    <tr>\n",
       "      <th>have</th>\n",
       "      <td>3244.0</td>\n",
       "      <td>2638.0</td>\n",
       "    </tr>\n",
       "    <tr>\n",
       "      <th>with</th>\n",
       "      <td>3194.0</td>\n",
       "      <td>2531.0</td>\n",
       "    </tr>\n",
       "    <tr>\n",
       "      <th>be</th>\n",
       "      <td>3120.0</td>\n",
       "      <td>2344.0</td>\n",
       "    </tr>\n",
       "    <tr>\n",
       "      <th>on</th>\n",
       "      <td>2768.0</td>\n",
       "      <td>2251.0</td>\n",
       "    </tr>\n",
       "    <tr>\n",
       "      <th>as</th>\n",
       "      <td>2763.0</td>\n",
       "      <td>2230.0</td>\n",
       "    </tr>\n",
       "  </tbody>\n",
       "</table>\n",
       "</div>"
      ],
      "text/plain": [
       "      buddhism  stoicism\n",
       "to     14276.0   11556.0\n",
       "the    13967.0   11125.0\n",
       "and    12679.0   10375.0\n",
       "of      8860.0    7159.0\n",
       "is      6399.0    4960.0\n",
       "that    6359.0    5012.0\n",
       "in      6218.0    5173.0\n",
       "you     5699.0    3962.0\n",
       "it      5254.0    4062.0\n",
       "my      5000.0    4338.0\n",
       "this    3967.0    3195.0\n",
       "for     3827.0    3092.0\n",
       "not     3404.0    2629.0\n",
       "but     3401.0    2722.0\n",
       "me      3329.0    2796.0\n",
       "have    3244.0    2638.0\n",
       "with    3194.0    2531.0\n",
       "be      3120.0    2344.0\n",
       "on      2768.0    2251.0\n",
       "as      2763.0    2230.0"
      ]
     },
     "execution_count": 20,
     "metadata": {},
     "output_type": "execute_result"
    }
   ],
   "source": [
    "# Create df of anf view top 50 occuring words - see functions.py for defined function \n",
    "top_words_bysubreddit = top_words_subreddit(df)\n",
    "top_words_bysubreddit.head(20)"
   ]
  },
  {
   "cell_type": "code",
   "execution_count": 21,
   "metadata": {},
   "outputs": [
    {
     "data": {
      "text/plain": [
       "the       26734\n",
       "to        24683\n",
       "and       21655\n",
       "of        16894\n",
       "is        11976\n",
       "in        11612\n",
       "that      10769\n",
       "it         9101\n",
       "you        8587\n",
       "my         7903\n",
       "this       7181\n",
       "for        6715\n",
       "but        5675\n",
       "not        5578\n",
       "have       5431\n",
       "with       5379\n",
       "be         5336\n",
       "me         5142\n",
       "as         4994\n",
       "or         4865\n",
       "are        4771\n",
       "on         4658\n",
       "what       4070\n",
       "if         3957\n",
       "was        3822\n",
       "do         3735\n",
       "so         3493\n",
       "about      3404\n",
       "how        3193\n",
       "we         3180\n",
       "can        3174\n",
       "im         3135\n",
       "like       3089\n",
       "from       3013\n",
       "all        2903\n",
       "your       2900\n",
       "just       2674\n",
       "they       2643\n",
       "life       2548\n",
       "by         2402\n",
       "at         2373\n",
       "its        2320\n",
       "one        2271\n",
       "people     2270\n",
       "am         2264\n",
       "dont       2251\n",
       "he         2250\n",
       "would      2182\n",
       "an         2148\n",
       "when       2140\n",
       "dtype: int64"
      ]
     },
     "execution_count": 21,
     "metadata": {},
     "output_type": "execute_result"
    }
   ],
   "source": [
    "# Top appearing overall \n",
    "top_words = top_words_subreddit(df, bysubreddit=False, i = 50)\n",
    "top_words"
   ]
  },
  {
   "cell_type": "code",
   "execution_count": 22,
   "metadata": {},
   "outputs": [
    {
     "data": {
      "text/plain": [
       "Index(['the', 'to', 'and', 'of', 'is', 'in', 'that', 'it', 'you', 'my', 'this',\n",
       "       'for', 'but', 'not', 'have', 'with', 'be', 'me', 'as', 'or', 'are',\n",
       "       'on', 'what', 'if', 'was', 'do', 'so', 'about', 'how', 'we', 'can',\n",
       "       'im', 'like', 'from', 'all', 'your', 'just', 'they', 'life', 'by', 'at',\n",
       "       'its', 'one', 'people', 'am', 'dont', 'he', 'would', 'an', 'when'],\n",
       "      dtype='object')"
      ]
     },
     "execution_count": 22,
     "metadata": {},
     "output_type": "execute_result"
    }
   ],
   "source": [
    "# View topwords as a list \n",
    "top_words.index"
   ]
  },
  {
   "cell_type": "code",
   "execution_count": 23,
   "metadata": {},
   "outputs": [
    {
     "data": {
      "text/html": [
       "<div>\n",
       "<style scoped>\n",
       "    .dataframe tbody tr th:only-of-type {\n",
       "        vertical-align: middle;\n",
       "    }\n",
       "\n",
       "    .dataframe tbody tr th {\n",
       "        vertical-align: top;\n",
       "    }\n",
       "\n",
       "    .dataframe thead th {\n",
       "        text-align: right;\n",
       "    }\n",
       "</style>\n",
       "<table border=\"1\" class=\"dataframe\">\n",
       "  <thead>\n",
       "    <tr style=\"text-align: right;\">\n",
       "      <th></th>\n",
       "      <th>buddhism</th>\n",
       "      <th>stoicism</th>\n",
       "    </tr>\n",
       "  </thead>\n",
       "  <tbody>\n",
       "    <tr>\n",
       "      <th>in the</th>\n",
       "      <td>1233.0</td>\n",
       "      <td>979.0</td>\n",
       "    </tr>\n",
       "    <tr>\n",
       "      <th>to be</th>\n",
       "      <td>1131.0</td>\n",
       "      <td>843.0</td>\n",
       "    </tr>\n",
       "    <tr>\n",
       "      <th>of the</th>\n",
       "      <td>1085.0</td>\n",
       "      <td>902.0</td>\n",
       "    </tr>\n",
       "    <tr>\n",
       "      <th>if you</th>\n",
       "      <td>675.0</td>\n",
       "      <td>512.0</td>\n",
       "    </tr>\n",
       "    <tr>\n",
       "      <th>it is</th>\n",
       "      <td>656.0</td>\n",
       "      <td>495.0</td>\n",
       "    </tr>\n",
       "    <tr>\n",
       "      <th>to the</th>\n",
       "      <td>630.0</td>\n",
       "      <td>526.0</td>\n",
       "    </tr>\n",
       "    <tr>\n",
       "      <th>you are</th>\n",
       "      <td>560.0</td>\n",
       "      <td>439.0</td>\n",
       "    </tr>\n",
       "    <tr>\n",
       "      <th>want to</th>\n",
       "      <td>547.0</td>\n",
       "      <td>467.0</td>\n",
       "    </tr>\n",
       "    <tr>\n",
       "      <th>this is</th>\n",
       "      <td>480.0</td>\n",
       "      <td>396.0</td>\n",
       "    </tr>\n",
       "    <tr>\n",
       "      <th>to do</th>\n",
       "      <td>469.0</td>\n",
       "      <td>392.0</td>\n",
       "    </tr>\n",
       "    <tr>\n",
       "      <th>in my</th>\n",
       "      <td>460.0</td>\n",
       "      <td>407.0</td>\n",
       "    </tr>\n",
       "    <tr>\n",
       "      <th>is the</th>\n",
       "      <td>446.0</td>\n",
       "      <td>353.0</td>\n",
       "    </tr>\n",
       "    <tr>\n",
       "      <th>on the</th>\n",
       "      <td>445.0</td>\n",
       "      <td>356.0</td>\n",
       "    </tr>\n",
       "    <tr>\n",
       "      <th>of my</th>\n",
       "      <td>423.0</td>\n",
       "      <td>358.0</td>\n",
       "    </tr>\n",
       "    <tr>\n",
       "      <th>how to</th>\n",
       "      <td>405.0</td>\n",
       "      <td>343.0</td>\n",
       "    </tr>\n",
       "    <tr>\n",
       "      <th>is not</th>\n",
       "      <td>395.0</td>\n",
       "      <td>287.0</td>\n",
       "    </tr>\n",
       "    <tr>\n",
       "      <th>for the</th>\n",
       "      <td>390.0</td>\n",
       "      <td>306.0</td>\n",
       "    </tr>\n",
       "    <tr>\n",
       "      <th>my life</th>\n",
       "      <td>376.0</td>\n",
       "      <td>316.0</td>\n",
       "    </tr>\n",
       "    <tr>\n",
       "      <th>and the</th>\n",
       "      <td>NaN</td>\n",
       "      <td>311.0</td>\n",
       "    </tr>\n",
       "    <tr>\n",
       "      <th>for the</th>\n",
       "      <td>390.0</td>\n",
       "      <td>306.0</td>\n",
       "    </tr>\n",
       "  </tbody>\n",
       "</table>\n",
       "</div>"
      ],
      "text/plain": [
       "         buddhism  stoicism\n",
       "in the     1233.0     979.0\n",
       "to be      1131.0     843.0\n",
       "of the     1085.0     902.0\n",
       "if you      675.0     512.0\n",
       "it is       656.0     495.0\n",
       "to the      630.0     526.0\n",
       "you are     560.0     439.0\n",
       "want to     547.0     467.0\n",
       "this is     480.0     396.0\n",
       "to do       469.0     392.0\n",
       "in my       460.0     407.0\n",
       "is the      446.0     353.0\n",
       "on the      445.0     356.0\n",
       "of my       423.0     358.0\n",
       "how to      405.0     343.0\n",
       "is not      395.0     287.0\n",
       "for the     390.0     306.0\n",
       "my life     376.0     316.0\n",
       "and the       NaN     311.0\n",
       "for the     390.0     306.0"
      ]
     },
     "execution_count": 23,
     "metadata": {},
     "output_type": "execute_result"
    }
   ],
   "source": [
    "# View top bigrams by subreddit\n",
    "# NaN means it occurs in the top 20 for on category (subreddit) but not for the other \n",
    "top_bigrams = top_words_subreddit(df, ngram=(2,2), i = 20)\n",
    "top_bigrams.head(20)"
   ]
  },
  {
   "cell_type": "markdown",
   "metadata": {},
   "source": [
    "Again we see here many pronouns, prepositions and conjunctions - words which are typically excluded using standardised stop words lists. "
   ]
  },
  {
   "cell_type": "code",
   "execution_count": 24,
   "metadata": {},
   "outputs": [
    {
     "data": {
      "text/html": [
       "<div>\n",
       "<style scoped>\n",
       "    .dataframe tbody tr th:only-of-type {\n",
       "        vertical-align: middle;\n",
       "    }\n",
       "\n",
       "    .dataframe tbody tr th {\n",
       "        vertical-align: top;\n",
       "    }\n",
       "\n",
       "    .dataframe thead th {\n",
       "        text-align: right;\n",
       "    }\n",
       "</style>\n",
       "<table border=\"1\" class=\"dataframe\">\n",
       "  <thead>\n",
       "    <tr style=\"text-align: right;\">\n",
       "      <th></th>\n",
       "      <th>buddhism</th>\n",
       "      <th>stoicism</th>\n",
       "    </tr>\n",
       "  </thead>\n",
       "  <tbody>\n",
       "    <tr>\n",
       "      <th>if you are</th>\n",
       "      <td>190.0</td>\n",
       "      <td>171.0</td>\n",
       "    </tr>\n",
       "    <tr>\n",
       "      <th>the new agora</th>\n",
       "      <td>184.0</td>\n",
       "      <td>192.0</td>\n",
       "    </tr>\n",
       "    <tr>\n",
       "      <th>in my life</th>\n",
       "      <td>108.0</td>\n",
       "      <td>86.0</td>\n",
       "    </tr>\n",
       "    <tr>\n",
       "      <th>to deal with</th>\n",
       "      <td>107.0</td>\n",
       "      <td>82.0</td>\n",
       "    </tr>\n",
       "    <tr>\n",
       "      <th>dont want to</th>\n",
       "      <td>97.0</td>\n",
       "      <td>93.0</td>\n",
       "    </tr>\n",
       "    <tr>\n",
       "      <th>in the new</th>\n",
       "      <td>93.0</td>\n",
       "      <td>97.0</td>\n",
       "    </tr>\n",
       "    <tr>\n",
       "      <th>if you have</th>\n",
       "      <td>91.0</td>\n",
       "      <td>78.0</td>\n",
       "    </tr>\n",
       "    <tr>\n",
       "      <th>one of the</th>\n",
       "      <td>87.0</td>\n",
       "      <td>82.0</td>\n",
       "    </tr>\n",
       "    <tr>\n",
       "      <th>there is no</th>\n",
       "      <td>83.0</td>\n",
       "      <td>66.0</td>\n",
       "    </tr>\n",
       "    <tr>\n",
       "      <th>be able to</th>\n",
       "      <td>81.0</td>\n",
       "      <td>63.0</td>\n",
       "    </tr>\n",
       "    <tr>\n",
       "      <th>how do you</th>\n",
       "      <td>81.0</td>\n",
       "      <td>65.0</td>\n",
       "    </tr>\n",
       "    <tr>\n",
       "      <th>want to be</th>\n",
       "      <td>74.0</td>\n",
       "      <td>60.0</td>\n",
       "    </tr>\n",
       "    <tr>\n",
       "      <th>that you have</th>\n",
       "      <td>65.0</td>\n",
       "      <td>58.0</td>\n",
       "    </tr>\n",
       "    <tr>\n",
       "      <th>new to stoicism</th>\n",
       "      <td>63.0</td>\n",
       "      <td>57.0</td>\n",
       "    </tr>\n",
       "    <tr>\n",
       "      <th>dont know how</th>\n",
       "      <td>62.0</td>\n",
       "      <td>57.0</td>\n",
       "    </tr>\n",
       "    <tr>\n",
       "      <th>be able to</th>\n",
       "      <td>81.0</td>\n",
       "      <td>63.0</td>\n",
       "    </tr>\n",
       "    <tr>\n",
       "      <th>dont know how</th>\n",
       "      <td>62.0</td>\n",
       "      <td>57.0</td>\n",
       "    </tr>\n",
       "    <tr>\n",
       "      <th>dont want to</th>\n",
       "      <td>97.0</td>\n",
       "      <td>93.0</td>\n",
       "    </tr>\n",
       "    <tr>\n",
       "      <th>how do you</th>\n",
       "      <td>81.0</td>\n",
       "      <td>65.0</td>\n",
       "    </tr>\n",
       "    <tr>\n",
       "      <th>if you are</th>\n",
       "      <td>190.0</td>\n",
       "      <td>171.0</td>\n",
       "    </tr>\n",
       "  </tbody>\n",
       "</table>\n",
       "</div>"
      ],
      "text/plain": [
       "                 buddhism  stoicism\n",
       "if you are          190.0     171.0\n",
       "the new agora       184.0     192.0\n",
       "in my life          108.0      86.0\n",
       "to deal with        107.0      82.0\n",
       "dont want to         97.0      93.0\n",
       "in the new           93.0      97.0\n",
       "if you have          91.0      78.0\n",
       "one of the           87.0      82.0\n",
       "there is no          83.0      66.0\n",
       "be able to           81.0      63.0\n",
       "how do you           81.0      65.0\n",
       "want to be           74.0      60.0\n",
       "that you have        65.0      58.0\n",
       "new to stoicism      63.0      57.0\n",
       "dont know how        62.0      57.0\n",
       "be able to           81.0      63.0\n",
       "dont know how        62.0      57.0\n",
       "dont want to         97.0      93.0\n",
       "how do you           81.0      65.0\n",
       "if you are          190.0     171.0"
      ]
     },
     "execution_count": 24,
     "metadata": {},
     "output_type": "execute_result"
    }
   ],
   "source": [
    "# View top trigrams by subreddit\n",
    "top_trigrams = top_words_subreddit(df, ngram=(3,3), i = 20)\n",
    "top_trigrams.head(20)"
   ]
  },
  {
   "cell_type": "markdown",
   "metadata": {},
   "source": [
    "By listing out trigrams we have seen there are lot of links in the text: \"www reddit com\", \"https www reddit\". URLs are searched for and counted below as well as emojis. "
   ]
  },
  {
   "cell_type": "code",
   "execution_count": 25,
   "metadata": {},
   "outputs": [
    {
     "data": {
      "text/plain": [
       "subreddit\n",
       "Buddhism    182\n",
       "Stoicism    221\n",
       "Name: contains_https, dtype: int64"
      ]
     },
     "execution_count": 25,
     "metadata": {},
     "output_type": "execute_result"
    }
   ],
   "source": [
    "# Check for the presence of URLs in the corpus\n",
    "df['contains_https'] = df['combined_text'].str.contains('https|www')\n",
    "\n",
    "# group by subreddit and show counts of rows that contain https \n",
    "count_https = df.groupby('subreddit')['contains_https'].sum()\n",
    "count_https"
   ]
  },
  {
   "cell_type": "code",
   "execution_count": 26,
   "metadata": {},
   "outputs": [
    {
     "data": {
      "text/plain": [
       "subreddit\n",
       "Buddhism    0\n",
       "Stoicism    0\n",
       "Name: contains_emoji, dtype: int64"
      ]
     },
     "execution_count": 26,
     "metadata": {},
     "output_type": "execute_result"
    }
   ],
   "source": [
    "# use regex to locate and count of rows that contain emojis (not the total number of emojis across the corpus)\n",
    "# Sources: https://gist.github.com/n1n9-jp/5857d7725f3b14cbc8ec3e878e4307ce \n",
    "# https://gist.github.com/slowkow/7a7f61f495e3dbb7e3d767f97bd7304b\n",
    "\n",
    "def contains_emoji(x):\n",
    "    emoji_pattern = re.compile(r'[\\U00010000-\\U0010ffff]', flags=re.UNICODE)\n",
    "    return bool(emoji_pattern.search(x))\n",
    "\n",
    "# create a new column for the presence of emojis\n",
    "df['contains_emoji'] = df['combined_text'].apply(contains_emoji)\n",
    "\n",
    "# group by subreddit and show counts\n",
    "emoji_counts = df.groupby('subreddit')['contains_emoji'].sum()\n",
    "emoji_counts"
   ]
  },
  {
   "cell_type": "code",
   "execution_count": 27,
   "metadata": {},
   "outputs": [
    {
     "data": {
      "text/plain": [
       "is_stoicism\n",
       "0    0.517519\n",
       "1    0.482481\n",
       "Name: proportion, dtype: float64"
      ]
     },
     "execution_count": 27,
     "metadata": {},
     "output_type": "execute_result"
    }
   ],
   "source": [
    "# baseline is 51% of posts are in the negative class (buddhism) subreddit\n",
    "df['is_stoicism'].value_counts(normalize=True) # find baseline \n"
   ]
  },
  {
   "cell_type": "code",
   "execution_count": 28,
   "metadata": {},
   "outputs": [],
   "source": [
    "# export cleaned and combined dataframe \n",
    "pd.DataFrame.to_csv(df, './data/stoicism_buddhism_clean.csv', index=False)"
   ]
  },
  {
   "cell_type": "markdown",
   "metadata": {},
   "source": [
    "**Cleaning & EDA Summary**<br/>\n",
    "\n",
    "- Removed duplicate rows from dataframes.<br/>\n",
    "- Combined the dataframes into one.<br/>\n",
    "- Noted a high proportion of posts with no self-text; merged the self-text and title columns to create a combined column.<br/>\n",
    "- Created the numerical target variable 'is_stoicism', where 1 represents posts from the stoicism subreddit and 0 represents posts from the Buddhism subreddit.<br/>\n",
    "- Removed punctuation from text.<br/>\n",
    "- Created a word count column, finding, on average, Buddhism posts were 100 words long and Stoicism posts were 143 words long.<br/>\n",
    "- Found total word count for Buddhism: 327,513; for Stoicism: 436,787.<br/>\n",
    "- Plotted a word count histogram, which indicated that Stoicism submissions have fewer very short-length posts.<br/>\n",
    "- Created a function 'top_words_subreddit', stored in functions.py. This function takes in a dataframe and outputs the 50 top-appearing words in each subreddit. The purpose is to aid with stop word selection and to identify common and unique words in each subreddit, which could be useful for understanding overfitting and for later stages of the analysis.<br/>\n",
    "- Initial list of most frequent words suggests that removing stop words might be beneficial if our model overfits.<br/>\n",
    "- The prevalence of many frequently occurring shared words suggests considering the use of TF-IDF in preprocessing. TF-IDF downweights terms that appear frequently across documents, thus emphasizing words that are more unique to specific documents. This approach may be particularly useful to counter potential overfitting.<br/>\n",
    "- Checked top-appearing trigrams, revealing a significant presence of URLs in the corpus.<br/>\n",
    "- Determined that about 6% of all submissions contain URLs and removed these from the corpus.<br/>\n",
    "- Found that approximately 3% of documents contain emojis, removed emojis from corpus.<br/>\n",
    "- Identified a baseline score of 51% for non-stoicism posts, indicating a relatively even class balance for analysis. 51% of posts are from the Buddhism subreddit.<br/>\n",
    "- Exported the combined and cleaned dataset as 'stoicism_buddhism_clean.csv' for use in further notebooks.<br/>\n",
    "\n",
    "**Looking Ahead:**\n",
    "- Confident - given what has been discovered during ED - that there is sufficent data to build an accurate (above 90%) classification model. \n",
    "- There are more buddhism posts than stoicism the class balance is very even which is helpful for modeling. Our baseline score is close to 50/50 and the model will have to learn from the text in the corpus to classify accurately. \n",
    "- There are 25% more words in the stoicism corpus, which might suggest the model will be better at identifying the positive class (the stoicism subreddits), based on the idea that more data leads to more accurate classification. \n",
    "- Look to stop-words, stemming and TF-IDF in next stages to remove noise."
   ]
  }
 ],
 "metadata": {
  "kernelspec": {
   "display_name": "base",
   "language": "python",
   "name": "python3"
  },
  "language_info": {
   "codemirror_mode": {
    "name": "ipython",
    "version": 3
   },
   "file_extension": ".py",
   "mimetype": "text/x-python",
   "name": "python",
   "nbconvert_exporter": "python",
   "pygments_lexer": "ipython3",
   "version": "3.11.5"
  }
 },
 "nbformat": 4,
 "nbformat_minor": 2
}
